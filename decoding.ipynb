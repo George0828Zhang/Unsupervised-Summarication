{
 "cells": [
  {
   "cell_type": "code",
   "execution_count": 1,
   "metadata": {},
   "outputs": [],
   "source": [
    "from architecture import ContextMatcher\n",
    "import json\n",
    "import torch\n",
    "import torch.nn.functional as F\n",
    "import numpy as np\n",
    "import nltk\n",
    "from tqdm.auto import tqdm\n",
    "data_dir = '/hdd/unsupervised-summarization/'"
   ]
  },
  {
   "cell_type": "code",
   "execution_count": 2,
   "metadata": {},
   "outputs": [],
   "source": [
    "vocab = json.load(open(data_dir+'data-giga/vocab.json', 'r'))"
   ]
  },
  {
   "cell_type": "code",
   "execution_count": 3,
   "metadata": {},
   "outputs": [],
   "source": [
    "# from ELMo import getELMo\n",
    "# elmo = getELMo(vocab, False)"
   ]
  },
  {
   "cell_type": "code",
   "execution_count": 4,
   "metadata": {},
   "outputs": [],
   "source": [
    "# torch.save(elmo, data_dir+'elmo_model')"
   ]
  },
  {
   "cell_type": "code",
   "execution_count": 5,
   "metadata": {},
   "outputs": [
    {
     "name": "stderr",
     "output_type": "stream",
     "text": [
      "/home/sean/anaconda3/envs/pytorch/lib/python3.7/site-packages/torch/serialization.py:453: SourceChangeWarning: source code of class 'ELMo.LanguageModel' has changed. you can retrieve the original source code by accessing the object's source attribute or set `torch.nn.Module.dump_patches = True` and use the patch tool to revert the changes.\n",
      "  warnings.warn(msg, SourceChangeWarning)\n"
     ]
    }
   ],
   "source": [
    "embeddings = np.load(data_dir+'data-giga/embeddings.npy')\n",
    "embeddings = torch.from_numpy(embeddings).cuda()\n",
    "elmo = torch.load(data_dir+'elmo_model')\n",
    "elmo_uni = torch.load(data_dir+'elmo_model_uni')\n",
    "lm = torch.load(data_dir+'LM-check')"
   ]
  },
  {
   "cell_type": "code",
   "execution_count": 6,
   "metadata": {},
   "outputs": [
    {
     "data": {
      "application/vnd.jupyter.widget-view+json": {
       "model_id": "84a79402c02b41d88459ccfec7819dfe",
       "version_major": 2,
       "version_minor": 0
      },
      "text/plain": [
       "HBox(children=(IntProgress(value=0, description='candidate-mappings', max=157, style=ProgressStyle(description…"
      ]
     },
     "metadata": {},
     "output_type": "display_data"
    },
    {
     "name": "stdout",
     "output_type": "stream",
     "text": [
      "\n"
     ]
    },
    {
     "data": {
      "application/vnd.jupyter.widget-view+json": {
       "model_id": "46ff0384fac141dfb4995e2d4802ca53",
       "version_major": 2,
       "version_minor": 0
      },
      "text/plain": [
       "HBox(children=(IntProgress(value=0, description='candidate-mappings', max=157, style=ProgressStyle(description…"
      ]
     },
     "metadata": {},
     "output_type": "display_data"
    },
    {
     "name": "stdout",
     "output_type": "stream",
     "text": [
      "\n"
     ]
    },
    {
     "data": {
      "text/plain": [
       "ContextMatcher(\n",
       "  (LM): LanguageModel(\n",
       "    (embed): Embedding(50000, 1024)\n",
       "    (lstm): LSTM(1024, 1024, num_layers=2, batch_first=True, dropout=0.5)\n",
       "    (CE): CrossEntropyLoss()\n",
       "  )\n",
       "  (pretrained_elmo): Elmo(\n",
       "    (_elmo_lstm): _ElmoBiLm(\n",
       "      (_token_embedder): _ElmoCharacterEncoder(\n",
       "        (char_conv_0): Conv1d(16, 32, kernel_size=(1,), stride=(1,))\n",
       "        (char_conv_1): Conv1d(16, 32, kernel_size=(2,), stride=(1,))\n",
       "        (char_conv_2): Conv1d(16, 64, kernel_size=(3,), stride=(1,))\n",
       "        (char_conv_3): Conv1d(16, 128, kernel_size=(4,), stride=(1,))\n",
       "        (char_conv_4): Conv1d(16, 256, kernel_size=(5,), stride=(1,))\n",
       "        (char_conv_5): Conv1d(16, 512, kernel_size=(6,), stride=(1,))\n",
       "        (char_conv_6): Conv1d(16, 1024, kernel_size=(7,), stride=(1,))\n",
       "        (_highways): Highway(\n",
       "          (_layers): ModuleList(\n",
       "            (0): Linear(in_features=2048, out_features=4096, bias=True)\n",
       "            (1): Linear(in_features=2048, out_features=4096, bias=True)\n",
       "          )\n",
       "        )\n",
       "        (_projection): Linear(in_features=2048, out_features=512, bias=True)\n",
       "      )\n",
       "      (_word_embedding): Embedding()\n",
       "      (_elmo_lstm): ElmoLstm(\n",
       "        (forward_layer_0): LstmCellWithProjection(\n",
       "          (input_linearity): Linear(in_features=512, out_features=16384, bias=False)\n",
       "          (state_linearity): Linear(in_features=512, out_features=16384, bias=True)\n",
       "          (state_projection): Linear(in_features=4096, out_features=512, bias=False)\n",
       "        )\n",
       "        (backward_layer_0): LstmCellWithProjection(\n",
       "          (input_linearity): Linear(in_features=512, out_features=16384, bias=False)\n",
       "          (state_linearity): Linear(in_features=512, out_features=16384, bias=True)\n",
       "          (state_projection): Linear(in_features=4096, out_features=512, bias=False)\n",
       "        )\n",
       "        (forward_layer_1): LstmCellWithProjection(\n",
       "          (input_linearity): Linear(in_features=512, out_features=16384, bias=False)\n",
       "          (state_linearity): Linear(in_features=512, out_features=16384, bias=True)\n",
       "          (state_projection): Linear(in_features=4096, out_features=512, bias=False)\n",
       "        )\n",
       "        (backward_layer_1): LstmCellWithProjection(\n",
       "          (input_linearity): Linear(in_features=512, out_features=16384, bias=False)\n",
       "          (state_linearity): Linear(in_features=512, out_features=16384, bias=True)\n",
       "          (state_projection): Linear(in_features=4096, out_features=512, bias=False)\n",
       "        )\n",
       "      )\n",
       "    )\n",
       "    (_dropout): Dropout(p=0.5, inplace=False)\n",
       "    (scalar_mix_0): ScalarMix(\n",
       "      (scalar_parameters): ParameterList(\n",
       "          (0): Parameter containing: [torch.FloatTensor of size 1]\n",
       "          (1): Parameter containing: [torch.FloatTensor of size 1]\n",
       "          (2): Parameter containing: [torch.FloatTensor of size 1]\n",
       "      )\n",
       "    )\n",
       "  )\n",
       ")"
      ]
     },
     "execution_count": 6,
     "metadata": {},
     "output_type": "execute_result"
    }
   ],
   "source": [
    "matcher = ContextMatcher(embeddings, elmo, lm)\n",
    "matcher.eval()\n",
    "matcher_uni = ContextMatcher(embeddings, elmo_uni, lm)\n",
    "matcher.eval()"
   ]
  },
  {
   "cell_type": "code",
   "execution_count": 46,
   "metadata": {},
   "outputs": [],
   "source": [
    "raw = \"turnout was heavy for parliamentary elections monday in trinidad and tobage after a month of intensive campaigning throughout the country, one of the most prosperous in the caribbean.\"\n",
    "# raw = \"A dozen current and former staff from different areas of the State Department and at different stages of their careers who spoke to CNN said the Ukraine controversy has exacerbated divisions between political appointees and career diplomats, many of whom say the department is being politicized in ways that undermine US ties to other countries.\""
   ]
  },
  {
   "cell_type": "code",
   "execution_count": 47,
   "metadata": {},
   "outputs": [],
   "source": [
    "s = [list(nltk.word_tokenize(raw))]\n",
    "# s = [['fuck' if i in ['the', 'The'] else i for i in sen] for sen in s]"
   ]
  },
  {
   "cell_type": "code",
   "execution_count": 48,
   "metadata": {},
   "outputs": [
    {
     "name": "stdout",
     "output_type": "stream",
     "text": [
      "[['turnout', 'was', 'heavy', 'for', 'parliamentary', 'elections', 'monday', 'in', 'trinidad', 'and', 'tobage', 'after', 'a', 'month', 'of', 'intensive', 'campaigning', 'throughout', 'the', 'country', ',', 'one', 'of', 'the', 'most', 'prosperous', 'in', 'the', 'caribbean', '.']]\n",
      "30\n"
     ]
    }
   ],
   "source": [
    "print(s)\n",
    "print(len(s[0]))"
   ]
  },
  {
   "cell_type": "code",
   "execution_count": 49,
   "metadata": {},
   "outputs": [],
   "source": [
    "# s = [['I', 'have', 'a', 'dog', '!'], ['I', 'have', 'a', 'cat', '.']]"
   ]
  },
  {
   "cell_type": "code",
   "execution_count": 50,
   "metadata": {},
   "outputs": [],
   "source": [
    "vocab_inv = {a:b for b,a in vocab.items()}"
   ]
  },
  {
   "cell_type": "code",
   "execution_count": 51,
   "metadata": {},
   "outputs": [],
   "source": [
    "def similarity(x, y):\n",
    "    return F.cosine_similarity(x, y, -1)"
   ]
  },
  {
   "cell_type": "code",
   "execution_count": 52,
   "metadata": {},
   "outputs": [],
   "source": [
    "def count_score(source, now, target):\n",
    "    max_score = -1\n",
    "    max_index = 0\n",
    "\n",
    "    for i in range(now+1, len(source)):\n",
    "        score = similarity(source[i], target)\n",
    "        if max_score < 0 or score > max_score:\n",
    "            max_score = score\n",
    "            max_index = i\n",
    "            \n",
    "    return max_index, max_score"
   ]
  },
  {
   "cell_type": "code",
   "execution_count": 53,
   "metadata": {},
   "outputs": [],
   "source": [
    "def summary(sourse, cand, matcher):\n",
    "    output = []\n",
    "    now = -1\n",
    "    while now < len(sourse)-1:\n",
    "\n",
    "        index_list = []\n",
    "        score_list = []\n",
    "        for w in tqdm(cand):\n",
    "            output_emb = matcher.embed(torch.LongTensor([output+[w]]))[0][-1] ## could be done in batch\n",
    "            index, score = count_score(sourse, now, output_emb)\n",
    "            index_list.append(index)\n",
    "            score_list.append(score)\n",
    "#             print(vocab_inv[w], index, score, output_emb)\n",
    "        \n",
    "        score_list = torch.FloatTensor(score_list)\n",
    "        qcm = F.softmax(score_list, -1)\n",
    "        k = np.argmax(score_list)\n",
    "        print(k, score_list[k])\n",
    "\n",
    "        output.append(cand[k])\n",
    "        now = index_list[k]\n",
    "        print(vocab_inv[output[-1]], now)\n",
    "    \n",
    "    output = [vocab_inv[i] for i in output]\n",
    "    \n",
    "    return output"
   ]
  },
  {
   "cell_type": "code",
   "execution_count": 54,
   "metadata": {},
   "outputs": [],
   "source": [
    "def summary_batch(s, matcher):\n",
    "    print(s)\n",
    "    s_index = [[ vocab.get(w.lower(), vocab[\"<unk>\"]) for w in sen] for sen in s]\n",
    "    s_index = torch.LongTensor(s_index)\n",
    "    s_emb = matcher.embed(s_index)\n",
    "    output_list = []\n",
    "    for index, target in enumerate(s_emb):\n",
    "        vocab_list = matcher.candidate_list(s_index[index], 2).numpy()\n",
    "        output = summary(target, vocab_list, matcher)\n",
    "        output_list.append(output)\n",
    "    return output_list"
   ]
  },
  {
   "cell_type": "code",
   "execution_count": 55,
   "metadata": {},
   "outputs": [
    {
     "name": "stdout",
     "output_type": "stream",
     "text": [
      "[['turnout', 'was', 'heavy', 'for', 'parliamentary', 'elections', 'monday', 'in', 'trinidad', 'and', 'tobage', 'after', 'a', 'month', 'of', 'intensive', 'campaigning', 'throughout', 'the', 'country', ',', 'one', 'of', 'the', 'most', 'prosperous', 'in', 'the', 'caribbean', '.']]\n"
     ]
    },
    {
     "data": {
      "application/vnd.jupyter.widget-view+json": {
       "model_id": "3aa2c2d0277c4d55aff9b204ca0a5012",
       "version_major": 2,
       "version_minor": 0
      },
      "text/plain": [
       "HBox(children=(IntProgress(value=0, max=52), HTML(value='')))"
      ]
     },
     "metadata": {},
     "output_type": "display_data"
    },
    {
     "name": "stdout",
     "output_type": "stream",
     "text": [
      "\n",
      "tensor(3) tensor(0.8067)\n",
      ". 29\n"
     ]
    }
   ],
   "source": [
    "result1 = summary_batch(s, matcher)"
   ]
  },
  {
   "cell_type": "code",
   "execution_count": 56,
   "metadata": {},
   "outputs": [
    {
     "name": "stdout",
     "output_type": "stream",
     "text": [
      "[['turnout', 'was', 'heavy', 'for', 'parliamentary', 'elections', 'monday', 'in', 'trinidad', 'and', 'tobage', 'after', 'a', 'month', 'of', 'intensive', 'campaigning', 'throughout', 'the', 'country', ',', 'one', 'of', 'the', 'most', 'prosperous', 'in', 'the', 'caribbean', '.']]\n"
     ]
    },
    {
     "data": {
      "application/vnd.jupyter.widget-view+json": {
       "model_id": "1bfa65adc96c481c80ee14c551bb5423",
       "version_major": 2,
       "version_minor": 0
      },
      "text/plain": [
       "HBox(children=(IntProgress(value=0, max=52), HTML(value='')))"
      ]
     },
     "metadata": {},
     "output_type": "display_data"
    },
    {
     "name": "stdout",
     "output_type": "stream",
     "text": [
      "\n",
      "tensor(43) tensor(0.5121)\n",
      "turnout 0\n"
     ]
    },
    {
     "data": {
      "application/vnd.jupyter.widget-view+json": {
       "model_id": "38e72d1c47f6422fb75fa7693c372e7d",
       "version_major": 2,
       "version_minor": 0
      },
      "text/plain": [
       "HBox(children=(IntProgress(value=0, max=52), HTML(value='')))"
      ]
     },
     "metadata": {},
     "output_type": "display_data"
    },
    {
     "name": "stdout",
     "output_type": "stream",
     "text": [
      "\n",
      "tensor(16) tensor(0.4965)\n",
      "was 1\n"
     ]
    },
    {
     "data": {
      "application/vnd.jupyter.widget-view+json": {
       "model_id": "32e360bf6bee4afe9f755ebe4c517e77",
       "version_major": 2,
       "version_minor": 0
      },
      "text/plain": [
       "HBox(children=(IntProgress(value=0, max=52), HTML(value='')))"
      ]
     },
     "metadata": {},
     "output_type": "display_data"
    },
    {
     "name": "stdout",
     "output_type": "stream",
     "text": [
      "\n",
      "tensor(32) tensor(0.5198)\n",
      "heavy 2\n"
     ]
    },
    {
     "data": {
      "application/vnd.jupyter.widget-view+json": {
       "model_id": "b4ca8cc9033b4495afc411fc7aba1c06",
       "version_major": 2,
       "version_minor": 0
      },
      "text/plain": [
       "HBox(children=(IntProgress(value=0, max=52), HTML(value='')))"
      ]
     },
     "metadata": {},
     "output_type": "display_data"
    },
    {
     "name": "stdout",
     "output_type": "stream",
     "text": [
      "\n",
      "tensor(9) tensor(0.6531)\n",
      "for 3\n"
     ]
    },
    {
     "data": {
      "application/vnd.jupyter.widget-view+json": {
       "model_id": "a897e0ba939542a1b5cd1c053c4ac03d",
       "version_major": 2,
       "version_minor": 0
      },
      "text/plain": [
       "HBox(children=(IntProgress(value=0, max=52), HTML(value='')))"
      ]
     },
     "metadata": {},
     "output_type": "display_data"
    },
    {
     "name": "stdout",
     "output_type": "stream",
     "text": [
      "\n",
      "tensor(27) tensor(0.5102)\n",
      "elections 5\n"
     ]
    },
    {
     "data": {
      "application/vnd.jupyter.widget-view+json": {
       "model_id": "f8be3f70d8e14dc28f4ee9af1bfeeebd",
       "version_major": 2,
       "version_minor": 0
      },
      "text/plain": [
       "HBox(children=(IntProgress(value=0, max=52), HTML(value='')))"
      ]
     },
     "metadata": {},
     "output_type": "display_data"
    },
    {
     "name": "stdout",
     "output_type": "stream",
     "text": [
      "\n",
      "tensor(3) tensor(0.5630)\n",
      ". 29\n"
     ]
    }
   ],
   "source": [
    "result2 = summary_batch(s, matcher_uni)"
   ]
  },
  {
   "cell_type": "code",
   "execution_count": 57,
   "metadata": {},
   "outputs": [
    {
     "name": "stdout",
     "output_type": "stream",
     "text": [
      "['.'] ['turnout was heavy for elections .']\n",
      "turnout was heavy for parliamentary elections monday in trinidad and tobage after a month of intensive campaigning throughout the country , one of the most prosperous in the caribbean .\n",
      "30\n"
     ]
    }
   ],
   "source": [
    "print([' '.join(s) for s in result1], [' '.join(s) for s in result2])\n",
    "print(' '.join(s[0]))\n",
    "print(len(s[0]))"
   ]
  },
  {
   "cell_type": "code",
   "execution_count": 58,
   "metadata": {},
   "outputs": [],
   "source": [
    "s_index = [[ vocab.get(w.lower(), vocab[\"<unk>\"]) for w in sen] for sen in s]\n",
    "s_index = torch.LongTensor(s_index)"
   ]
  },
  {
   "cell_type": "code",
   "execution_count": 59,
   "metadata": {},
   "outputs": [
    {
     "name": "stdout",
     "output_type": "stream",
     "text": [
      "tensor(-4.5065) turnout\n",
      "tensor(-16.6481) was\n",
      "tensor(15.2704) heavy\n",
      "tensor(5.0865) for\n",
      "tensor(-10.9480) parliamentary\n",
      "tensor(9.1026) elections\n",
      "tensor(-12.3280) monday\n",
      "tensor(-7.6555) in\n",
      "tensor(-8.5008) trinidad\n",
      "tensor(-15.9063) and\n",
      "tensor(-10.8501) <unk>\n",
      "tensor(2.4193) after\n",
      "tensor(29.1655) a\n",
      "tensor(23.5804) month\n",
      "tensor(-7.0901) of\n",
      "tensor(31.7522) intensive\n",
      "tensor(-19.0052) campaigning\n",
      "tensor(-8.7282) throughout\n",
      "tensor(-17.1704) the\n",
      "tensor(-9.1210) country\n",
      "tensor(15.0357) ,\n",
      "tensor(21.3346) one\n",
      "tensor(7.3091) of\n",
      "tensor(-20.7848) the\n",
      "tensor(3.0174) most\n",
      "tensor(-1.1169) prosperous\n",
      "tensor(-23.8464) in\n",
      "tensor(9.6287) the\n",
      "tensor(23.2388) caribbean\n",
      "tensor(15.6785) .\n"
     ]
    }
   ],
   "source": [
    "for i in range(len(s_index[0])):\n",
    "    print(matcher_uni.embed(s_index[0][:i+1].unsqueeze(0))[:, -1, :].sum(), vocab_inv[s_index[0][i].item()])"
   ]
  },
  {
   "cell_type": "code",
   "execution_count": null,
   "metadata": {},
   "outputs": [],
   "source": [
    "matcher.candidate_list(s_index[0], 4)"
   ]
  },
  {
   "cell_type": "code",
   "execution_count": null,
   "metadata": {},
   "outputs": [],
   "source": [
    "matcher.candidate_map"
   ]
  },
  {
   "cell_type": "code",
   "execution_count": null,
   "metadata": {},
   "outputs": [],
   "source": [
    "matcher.embeddings[vocab['turnout']]"
   ]
  },
  {
   "cell_type": "code",
   "execution_count": 78,
   "metadata": {},
   "outputs": [
    {
     "data": {
      "text/plain": [
       "tensor(0.)"
      ]
     },
     "execution_count": 78,
     "metadata": {},
     "output_type": "execute_result"
    }
   ],
   "source": [
    "matcher.embed(s_index[0][:54].unsqueeze(0))[:, -1, :].sum()"
   ]
  },
  {
   "cell_type": "code",
   "execution_count": 46,
   "metadata": {},
   "outputs": [
    {
     "data": {
      "text/plain": [
       "tensor([    6,  2063,  1043,     8,    85,  1088,    18,  2306,   981,     5,\n",
       "            0,    76,   426,     8,    13,  2306,  5329,     5,    48, 11606,\n",
       "           61,  4774,     1,  5771,    11,     0,   933,  2902,    22, 25947,\n",
       "         4577,   142,   205, 24523,     8,  1231,  1627,     2,   487,     5,\n",
       "         3859,   298,     0,   426,    28,   304, 32647,     4,  1702,    14,\n",
       "         5627,    42,   520,     1])"
      ]
     },
     "execution_count": 46,
     "metadata": {},
     "output_type": "execute_result"
    }
   ],
   "source": [
    "s_index[0][:54]"
   ]
  },
  {
   "cell_type": "code",
   "execution_count": null,
   "metadata": {},
   "outputs": [],
   "source": [
    "embs = [] \n",
    "for i in range(10):\n",
    "    e = matcher.embed(torch.LongTensor([[vocab['<S>'], vocab['chicken'], vocab['.']]]))[:,-1, :]\n",
    "    embs.append(e.squeeze())\n",
    "embs = torch.stack(embs, dim=0)\n",
    "print(embs.shape)"
   ]
  },
  {
   "cell_type": "code",
   "execution_count": null,
   "metadata": {},
   "outputs": [],
   "source": [
    "embs = F.normalize(embs, p=2, dim=-1)"
   ]
  },
  {
   "cell_type": "code",
   "execution_count": null,
   "metadata": {},
   "outputs": [],
   "source": [
    "print(torch.matmul(embs, embs.transpose(-2, -1)))"
   ]
  },
  {
   "cell_type": "code",
   "execution_count": 178,
   "metadata": {},
   "outputs": [
    {
     "data": {
      "text/plain": [
       "0"
      ]
     },
     "execution_count": 178,
     "metadata": {},
     "output_type": "execute_result"
    }
   ],
   "source": [
    "vocab['the']"
   ]
  },
  {
   "cell_type": "code",
   "execution_count": null,
   "metadata": {},
   "outputs": [],
   "source": []
  }
 ],
 "metadata": {
  "kernelspec": {
   "display_name": "Python [conda env:pytorch]",
   "language": "python",
   "name": "conda-env-pytorch-py"
  },
  "language_info": {
   "codemirror_mode": {
    "name": "ipython",
    "version": 3
   },
   "file_extension": ".py",
   "mimetype": "text/x-python",
   "name": "python",
   "nbconvert_exporter": "python",
   "pygments_lexer": "ipython3",
   "version": "3.7.4"
  }
 },
 "nbformat": 4,
 "nbformat_minor": 2
}
