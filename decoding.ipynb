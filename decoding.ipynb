{
 "cells": [
  {
   "cell_type": "code",
   "execution_count": 1,
   "metadata": {},
   "outputs": [],
   "source": [
    "from architecture import ContextMatcher\n",
    "import json\n",
    "import torch\n",
    "import torch.nn.functional as F\n",
    "import numpy as np\n",
    "import nltk\n",
    "from tqdm.auto import tqdm\n",
    "data_dir = '/hdd/unsupervised-summarization/'"
   ]
  },
  {
   "cell_type": "code",
   "execution_count": 2,
   "metadata": {},
   "outputs": [],
   "source": [
    "vocab = json.load(open(data_dir+'data-giga/vocab.json', 'r'))"
   ]
  },
  {
   "cell_type": "code",
   "execution_count": 5,
   "metadata": {},
   "outputs": [],
   "source": [
    "embeddings = np.load(data_dir+'data-giga/embeddings.npy')\n",
    "embeddings = torch.from_numpy(embeddings).cuda()\n",
    "elmo = torch.load(data_dir+'elmo_model')\n",
    "elmo_uni = torch.load(data_dir+'elmo_model_uni')\n",
    "# lm_elmo = torch.load(data_dir+'LM-check')\n",
    "with open(data_dir+'data-giga/lm_record.json') as f:\n",
    "    lm_record = json.load(f)"
   ]
  },
  {
   "cell_type": "code",
   "execution_count": 6,
   "metadata": {},
   "outputs": [],
   "source": [
    "from StatisticalLM import StatisticalLM\n",
    "lm_statis = StatisticalLM(lm_record, vocab)"
   ]
  },
  {
   "cell_type": "code",
   "execution_count": 8,
   "metadata": {
    "scrolled": true
   },
   "outputs": [
    {
     "data": {
      "application/vnd.jupyter.widget-view+json": {
       "model_id": "31419ef192184f4a977ac60fc03dba13",
       "version_major": 2,
       "version_minor": 0
      },
      "text/plain": [
       "HBox(children=(IntProgress(value=0, description='candidate-mappings', max=157, style=ProgressStyle(description…"
      ]
     },
     "metadata": {},
     "output_type": "display_data"
    },
    {
     "name": "stdout",
     "output_type": "stream",
     "text": [
      "\n"
     ]
    },
    {
     "data": {
      "application/vnd.jupyter.widget-view+json": {
       "model_id": "9a90cac45d4649de8878f8d91c894215",
       "version_major": 2,
       "version_minor": 0
      },
      "text/plain": [
       "HBox(children=(IntProgress(value=0, description='candidate-mappings', max=157, style=ProgressStyle(description…"
      ]
     },
     "metadata": {},
     "output_type": "display_data"
    },
    {
     "name": "stdout",
     "output_type": "stream",
     "text": [
      "\n"
     ]
    },
    {
     "data": {
      "text/plain": [
       "ContextMatcher(\n",
       "  (pretrained_elmo): Elmo(\n",
       "    (_elmo_lstm): _ElmoBiLm(\n",
       "      (_token_embedder): _ElmoCharacterEncoder(\n",
       "        (char_conv_0): Conv1d(16, 32, kernel_size=(1,), stride=(1,))\n",
       "        (char_conv_1): Conv1d(16, 32, kernel_size=(2,), stride=(1,))\n",
       "        (char_conv_2): Conv1d(16, 64, kernel_size=(3,), stride=(1,))\n",
       "        (char_conv_3): Conv1d(16, 128, kernel_size=(4,), stride=(1,))\n",
       "        (char_conv_4): Conv1d(16, 256, kernel_size=(5,), stride=(1,))\n",
       "        (char_conv_5): Conv1d(16, 512, kernel_size=(6,), stride=(1,))\n",
       "        (char_conv_6): Conv1d(16, 1024, kernel_size=(7,), stride=(1,))\n",
       "        (_highways): Highway(\n",
       "          (_layers): ModuleList(\n",
       "            (0): Linear(in_features=2048, out_features=4096, bias=True)\n",
       "            (1): Linear(in_features=2048, out_features=4096, bias=True)\n",
       "          )\n",
       "        )\n",
       "        (_projection): Linear(in_features=2048, out_features=512, bias=True)\n",
       "      )\n",
       "      (_word_embedding): Embedding()\n",
       "      (_elmo_lstm): ElmoLstm(\n",
       "        (forward_layer_0): LstmCellWithProjection(\n",
       "          (input_linearity): Linear(in_features=512, out_features=16384, bias=False)\n",
       "          (state_linearity): Linear(in_features=512, out_features=16384, bias=True)\n",
       "          (state_projection): Linear(in_features=4096, out_features=512, bias=False)\n",
       "        )\n",
       "        (backward_layer_0): LstmCellWithProjection(\n",
       "          (input_linearity): Linear(in_features=512, out_features=16384, bias=False)\n",
       "          (state_linearity): Linear(in_features=512, out_features=16384, bias=True)\n",
       "          (state_projection): Linear(in_features=4096, out_features=512, bias=False)\n",
       "        )\n",
       "        (forward_layer_1): LstmCellWithProjection(\n",
       "          (input_linearity): Linear(in_features=512, out_features=16384, bias=False)\n",
       "          (state_linearity): Linear(in_features=512, out_features=16384, bias=True)\n",
       "          (state_projection): Linear(in_features=4096, out_features=512, bias=False)\n",
       "        )\n",
       "        (backward_layer_1): LstmCellWithProjection(\n",
       "          (input_linearity): Linear(in_features=512, out_features=16384, bias=False)\n",
       "          (state_linearity): Linear(in_features=512, out_features=16384, bias=True)\n",
       "          (state_projection): Linear(in_features=4096, out_features=512, bias=False)\n",
       "        )\n",
       "      )\n",
       "    )\n",
       "    (_dropout): Dropout(p=0.5, inplace=False)\n",
       "    (scalar_mix_0): ScalarMix(\n",
       "      (scalar_parameters): ParameterList(\n",
       "          (0): Parameter containing: [torch.FloatTensor of size 1]\n",
       "          (1): Parameter containing: [torch.FloatTensor of size 1]\n",
       "          (2): Parameter containing: [torch.FloatTensor of size 1]\n",
       "      )\n",
       "    )\n",
       "  )\n",
       ")"
      ]
     },
     "execution_count": 8,
     "metadata": {},
     "output_type": "execute_result"
    }
   ],
   "source": [
    "matcher = ContextMatcher(embeddings, elmo, lm_statis)\n",
    "matcher.eval()\n",
    "matcher_uni = ContextMatcher(embeddings, elmo_uni, lm_statis)\n",
    "matcher.eval()"
   ]
  },
  {
   "cell_type": "code",
   "execution_count": 35,
   "metadata": {},
   "outputs": [],
   "source": [
    "raw1 = \"turnout was heavy for parliamentary elections monday in trinidad and tobage after a month of intensive campaigning throughout the country, one of the most prosperous in the caribbean.\"\n",
    "raw2 = \"A dozen current and former staff from different areas of the State Department and at different stages of their careers who spoke to CNN said the Ukraine controversy has exacerbated divisions between political appointees and career diplomats, many of whom say the department is being politicized in ways that undermine US ties to other countries.\""
   ]
  },
  {
   "cell_type": "code",
   "execution_count": 38,
   "metadata": {},
   "outputs": [],
   "source": [
    "s = [list(nltk.word_tokenize(raw)) for raw in [raw1, raw2]]"
   ]
  },
  {
   "cell_type": "code",
   "execution_count": 13,
   "metadata": {},
   "outputs": [],
   "source": [
    "vocab_inv = {a:b for b,a in vocab.items()}"
   ]
  },
  {
   "cell_type": "code",
   "execution_count": 14,
   "metadata": {},
   "outputs": [],
   "source": [
    "def similarity(x, y):\n",
    "    return F.cosine_similarity(x, y, -1)"
   ]
  },
  {
   "cell_type": "code",
   "execution_count": 119,
   "metadata": {},
   "outputs": [],
   "source": [
    "def count_score(source, now, target):\n",
    "    max_score = -1\n",
    "    max_index = 0\n",
    "\n",
    "    for i in range(now+1, len(source)):\n",
    "        score = similarity(source[i], target)\n",
    "        if max_score < 0 or score > max_score:\n",
    "            max_score = score\n",
    "            max_index = i\n",
    "            \n",
    "    return max_index, max_score"
   ]
  },
  {
   "cell_type": "code",
   "execution_count": 150,
   "metadata": {},
   "outputs": [],
   "source": [
    "def summary(sourse, cand, matcher):\n",
    "    output = []\n",
    "    now = -1\n",
    "    matcher.voronoi_split(torch.LongTensor(cand))\n",
    "    \n",
    "    while now < len(sourse)-1:\n",
    "\n",
    "        index_list = []\n",
    "        score_list = []\n",
    "        fm = []\n",
    "        dist = matcher.LM(torch.LongTensor([output]))[0]\n",
    "\n",
    "        for w in cand:\n",
    "            output_emb = matcher.embed(torch.LongTensor([output+[w]]))[0][-1] ## could be done in batch\n",
    "            index, score = count_score(sourse, now, output_emb)\n",
    "            index_list.append(index)\n",
    "            fm.append(dist[matcher.get_cell_mates(w)].sum().item())\n",
    "\n",
    "            score_list.append(score)\n",
    "\n",
    "        score_list = torch.FloatTensor(score_list)\n",
    "        qcm = F.softmax(score_list, -1).numpy()\n",
    "        total_score = np.log(qcm) + 0.11*np.log(fm)\n",
    "        k = np.argmax(total_score)\n",
    "\n",
    "        output.append(cand[k])\n",
    "        now = index_list[k]\n",
    "        print(vocab_inv[output[-1]], now)\n",
    "    \n",
    "    output = [vocab_inv[i] for i in output]\n",
    "    \n",
    "    return output"
   ]
  },
  {
   "cell_type": "code",
   "execution_count": 151,
   "metadata": {},
   "outputs": [],
   "source": [
    "def summary_batch(s, matcher):\n",
    "    s_index = [[ vocab.get(w.lower(), vocab[\"<unk>\"]) for w in sen] for sen in s]\n",
    "    output_list = []\n",
    "    for source in s_index:\n",
    "        source = torch.LongTensor(source)\n",
    "        s_emb = matcher.embed(torch.unsqueeze(source, 0))[0]\n",
    "        vocab_list = matcher.candidate_list(source, 6).numpy()\n",
    "        output = summary(s_emb, vocab_list, matcher)\n",
    "        output_list.append(output)\n",
    "    return output_list"
   ]
  },
  {
   "cell_type": "code",
   "execution_count": 152,
   "metadata": {},
   "outputs": [],
   "source": [
    "test_input = []\n",
    "test_ans = []\n",
    "with open('/hdd/giga/train.article.txt') as f:\n",
    "    for i in range(20):\n",
    "        test_input.append(f.readline().strip())\n",
    "with open('/hdd/giga/train.title.txt') as f:\n",
    "    for i in range(len(test_input)):\n",
    "        test_ans.append(f.readline().strip())\n",
    "test_input = [list(nltk.word_tokenize(raw)) for raw in test_input]"
   ]
  },
  {
   "cell_type": "code",
   "execution_count": 153,
   "metadata": {},
   "outputs": [
    {
     "name": "stdout",
     "output_type": "stream",
     "text": [
      ". 37\n",
      ". 26\n",
      ". 24\n",
      ". 28\n",
      ". 26\n",
      ". 28\n",
      ". 24\n",
      ". 34\n",
      ". 29\n",
      ". 32\n",
      ". 23\n",
      ". 37\n",
      ". 28\n",
      ". 29\n",
      ". 27\n",
      ". 25\n",
      ". 35\n",
      ". 32\n",
      ". 29\n",
      ". 21\n",
      ". 17\n",
      "</S> 37\n",
      "at 0\n",
      "least 1\n",
      "two 2\n",
      "people 3\n",
      "were 4\n",
      "killed 5\n",
      "in 6\n",
      "a 7\n",
      "attack 10\n",
      "on 11\n",
      "wednesday 21\n",
      ". 26\n",
      "australia 0\n",
      ". 24\n",
      "south 0\n",
      "korea 1\n",
      "'s 2\n",
      "nuclear 3\n",
      "reactors 18\n",
      ". 28\n",
      "korea 1\n",
      "on 2\n",
      "monday 3\n",
      ". 26\n",
      "nicaragua 0\n",
      ". 28\n",
      ". 5\n",
      "</S> 24\n",
      "announced 10\n",
      "second-half 22\n",
      "losses 34\n",
      ". 29\n",
      "the 0\n",
      "country 2\n",
      ". 32\n",
      ". 23\n",
      "the 29\n",
      "norwegians 33\n",
      "were 34\n",
      "said 35\n",
      ". 37\n",
      "the 17\n",
      "analyst 26\n",
      "said 27\n",
      ". 28\n",
      ". 29\n",
      ". 27\n",
      "korea 1\n",
      "'s 2\n",
      "national 20\n",
      "office 22\n",
      "said 23\n",
      ". 25\n",
      "the 17\n",
      "pro-russian 33\n",
      "president 34\n",
      ". 35\n",
      "on 21\n",
      "a 22\n",
      "dark 23\n",
      ". 32\n",
      "philippine 0\n",
      "share 1\n",
      "prices 2\n",
      "closed 3\n",
      "altered 5\n",
      ". 29\n",
      ". 8\n",
      "</S> 21\n"
     ]
    }
   ],
   "source": [
    "result1 = summary_batch(test_input, matcher)\n",
    "result2 = summary_batch(test_input, matcher_uni)"
   ]
  },
  {
   "cell_type": "code",
   "execution_count": 154,
   "metadata": {},
   "outputs": [
    {
     "name": "stdout",
     "output_type": "stream",
     "text": [
      "(0)\n",
      "\t[ORI]: australia 's current account deficit shrunk by a record # . # # billion dollars -lrb- # . # # billion us -rrb- in the june quarter due to soaring commodity prices , figures released monday showed .\n",
      "\t[BID]: .\n",
      "\t[UNI]: . </S>\n",
      "\t[GRO]: australian current account deficit narrows sharply\n",
      "(1)\n",
      "\t[ORI]: at least two people were killed in a suspected bomb attack on a passenger bus in the strife-torn southern philippines on monday , the military said .\n",
      "\t[BID]: .\n",
      "\t[UNI]: at least two people were killed in a attack on wednesday .\n",
      "\t[GRO]: at least two dead in southern philippines blast\n",
      "(2)\n",
      "\t[ORI]: australian shares closed down # . # percent monday following a weak lead from the united states and lower commodity prices , dealers said .\n",
      "\t[BID]: .\n",
      "\t[UNI]: australia .\n",
      "\t[GRO]: australian stocks close down #.# percent\n",
      "(3)\n",
      "\t[ORI]: south korea 's nuclear envoy kim sook urged north korea monday to restart work to disable its nuclear plants and stop its `` typical `` brinkmanship in negotiations .\n",
      "\t[BID]: .\n",
      "\t[UNI]: south korea 's nuclear reactors .\n",
      "\t[GRO]: envoy urges north korea to restart nuclear disablement\n",
      "(4)\n",
      "\t[ORI]: south korea on monday announced sweeping tax reforms , including income and corporate tax cuts to boost growth by stimulating sluggish private consumption and business investment .\n",
      "\t[BID]: .\n",
      "\t[UNI]: korea on monday .\n",
      "\t[GRO]: skorea announces tax cuts to stimulate economy\n",
      "(5)\n",
      "\t[ORI]: taiwan share prices closed down # . # # percent monday on wall street weakness and lacklustre interim earnings from electronics manufacturing giant hon hai , dealers said .\n",
      "\t[BID]: .\n",
      "\t[UNI]: nicaragua .\n",
      "\t[GRO]: taiwan shares close down #.## percent\n",
      "(6)\n",
      "\t[ORI]: australian shares closed down # . # percent monday following a weak lead from the united states and lower commodity prices , dealers said .\n",
      "\t[BID]: .\n",
      "\t[UNI]: . </S>\n",
      "\t[GRO]: australian stocks close down #.# percent\n",
      "(7)\n",
      "\t[ORI]: spanish property group colonial , struggling under huge debts , announced losses of # . # # billion euros for the first half of # # # # which it blamed on asset depreciation .\n",
      "\t[BID]: .\n",
      "\t[UNI]: announced second-half losses\n",
      "\t[GRO]: spain 's colonial posts #.## billion euro loss\n",
      "(8)\n",
      "\t[ORI]: libyan leader moamer kadhafi monday promised wide political and economic reforms that he said would see ministries dismantled and oil revenues going directly into the pockets of the people .\n",
      "\t[BID]: .\n",
      "\t[UNI]: .\n",
      "\t[GRO]: kadhafi promises wide political economic reforms\n",
      "(9)\n",
      "\t[ORI]: the united nations ' humanitarian chief john holmes arrived in ethiopia monday to tour regions affected by drought , which has left some eight million people in need of urgent food aid .\n",
      "\t[BID]: .\n",
      "\t[UNI]: the country .\n",
      "\t[GRO]: un 's top aid official arrives in drought-hit ethiopia\n",
      "(10)\n",
      "\t[ORI]: new zealand share prices closed # . # # percent higher monday in subdued trading ahead of a us holiday , dealers said .\n",
      "\t[BID]: .\n",
      "\t[UNI]: .\n",
      "\t[GRO]: new zealand stocks close #.## percent higher\n",
      "(11)\n",
      "\t[ORI]: beijing is enjoying its best air quality in a decade thanks to steps taken for the olympics , authorities said monday , amid a push by some locals for the anti- pollution measures to be made permanent .\n",
      "\t[BID]: .\n",
      "\t[UNI]: the norwegians were said .\n",
      "\t[GRO]: beijing 's best air in a decade due to olympic measures\n",
      "(12)\n",
      "\t[ORI]: south korean shares closed # . # percent lower monday following steep losses on wall street and the won 's continued decline against the dollar , analysts said .\n",
      "\t[BID]: .\n",
      "\t[UNI]: the analyst said .\n",
      "\t[GRO]: skorean stocks close #.# percent lower\n",
      "(13)\n",
      "\t[ORI]: south korea 's state-run korea development bank refused comment monday on a british newspaper report that it is still seeking a stake in troubled us investment bank lehman brothers .\n",
      "\t[BID]: .\n",
      "\t[UNI]: .\n",
      "\t[GRO]: skorea bank refuses to confirm reported talks with lehman\n",
      "(14)\n",
      "\t[ORI]: taiwan shares closed down # . # # percent monday on wall street weakness and lacklustre interim earnings from electronics manufacturing giant hon hai , dealers said .\n",
      "\t[BID]: .\n",
      "\t[UNI]: .\n",
      "\t[GRO]: taiwan shares close down #.## percent\n",
      "(15)\n",
      "\t[ORI]: south korea 's inflation rate slowed slightly in august as oil and commodity prices showed signs of stabilising , the national statistical office said monday .\n",
      "\t[BID]: .\n",
      "\t[UNI]: korea 's national office said .\n",
      "\t[GRO]: skorea 's inflation rate slows slightly in august\n",
      "(16)\n",
      "\t[ORI]: south korea 's new parliament began its first regular session monday after months of delays , with the conservative party eager to push through a pro-business agenda after a decade of rule by liberal presidents .\n",
      "\t[BID]: .\n",
      "\t[UNI]: the pro-russian president .\n",
      "\t[GRO]: south korea 's new parliament finally opens\n",
      "(17)\n",
      "\t[ORI]: an american man has been arrested and charged in cambodia with committing indecent acts against a # # -year-old child prostitute on a dark street , police and court officials said monday .\n",
      "\t[BID]: .\n",
      "\t[UNI]: on a dark .\n",
      "\t[GRO]: us man charged with child sex in cambodia\n",
      "(18)\n",
      "\t[ORI]: philippine share prices closed little changed monday as investors awaited the impact on oil prices from hurricane gustav as it slammed into the us gulf coast , dealers said .\n",
      "\t[BID]: .\n",
      "\t[UNI]: philippine share prices closed altered .\n",
      "\t[GRO]: philippine shares close little changed\n",
      "(19)\n",
      "\t[ORI]: hong kong share prices ended monday morning # . # percent down , tracking wall street weakness friday , dealers said .\n",
      "\t[BID]: .\n",
      "\t[UNI]: . </S>\n",
      "\t[GRO]: hong kong shares end morning #.# pct down\n"
     ]
    }
   ],
   "source": [
    "for i in range(len(test_input)):\n",
    "    print('({})'.format(i))\n",
    "    print('\\t[ORI]:', ' '.join(test_input[i]))\n",
    "    print('\\t[BID]:', ' '.join(result1[i]))\n",
    "    print('\\t[UNI]:', ' '.join(result2[i]))\n",
    "    print('\\t[GRO]:', test_ans[i])"
   ]
  },
  {
   "cell_type": "code",
   "execution_count": null,
   "metadata": {},
   "outputs": [],
   "source": []
  }
 ],
 "metadata": {
  "kernelspec": {
   "display_name": "Python [conda env:pytorch]",
   "language": "python",
   "name": "conda-env-pytorch-py"
  },
  "language_info": {
   "codemirror_mode": {
    "name": "ipython",
    "version": 3
   },
   "file_extension": ".py",
   "mimetype": "text/x-python",
   "name": "python",
   "nbconvert_exporter": "python",
   "pygments_lexer": "ipython3",
   "version": "3.7.4"
  }
 },
 "nbformat": 4,
 "nbformat_minor": 2
}
